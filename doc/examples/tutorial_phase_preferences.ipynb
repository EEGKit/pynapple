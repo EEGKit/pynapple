{
  "cells": [
    {
      "cell_type": "code",
      "execution_count": null,
      "metadata": {
        "collapsed": false
      },
      "outputs": [],
      "source": [
        "%matplotlib inline"
      ]
    },
    {
      "cell_type": "markdown",
      "metadata": {},
      "source": [
        "\nSpikes-phase coupling\n=====================\n\nIn this tutorial we will learn how to isolate phase information using band-pass filtering and combine it\nwith spiking data, to find phase preferences of spiking units.\n\nSpecifically, we will examine LFP and spiking data from a period of REM sleep, after traversal of a linear track.\n\nThis tutorial was made by [Kipp Freud](https://kippfreud.com/) & Guillaume Viejo\n"
      ]
    },
    {
      "cell_type": "markdown",
      "metadata": {},
      "source": [
        "!!! warning\n    This tutorial uses matplotlib for displaying the figure\n\n    You can install all with `pip install matplotlib requests tqdm seaborn`\n\nmkdocs_gallery_thumbnail_number = 6\n\nFirst, import the necessary libraries:\n\n"
      ]
    },
    {
      "cell_type": "code",
      "execution_count": null,
      "metadata": {
        "collapsed": false
      },
      "outputs": [],
      "source": [
        "import math\nimport os\n\nimport matplotlib.pyplot as plt\nimport numpy as np\nimport pandas as pd\nimport requests\nimport scipy\nimport seaborn\nimport tqdm\n\ncustom_params = {\"axes.spines.right\": False, \"axes.spines.top\": False}\nseaborn.set_theme(context='notebook', style=\"ticks\", rc=custom_params)\n\nimport pynapple as nap"
      ]
    },
    {
      "cell_type": "markdown",
      "metadata": {},
      "source": [
        "***\nDownloading the data\n------------------\nLet's download the data and save it locally\n\n"
      ]
    },
    {
      "cell_type": "code",
      "execution_count": null,
      "metadata": {
        "collapsed": false
      },
      "outputs": [],
      "source": [
        "path = \"Achilles_10252013_EEG.nwb\"\nif path not in os.listdir(\".\"):\n    r = requests.get(f\"https://osf.io/2dfvp/download\", stream=True)\n    block_size = 1024 * 1024\n    with open(path, \"wb\") as f:\n        for data in tqdm.tqdm(\n            r.iter_content(block_size),\n            unit=\"MB\",\n            unit_scale=True,\n            total=math.ceil(int(r.headers.get(\"content-length\", 0)) // block_size),\n        ):\n            f.write(data)"
      ]
    },
    {
      "cell_type": "markdown",
      "metadata": {},
      "source": [
        "***\nLoading the data\n------------------\nLet's load and print the full dataset.\n\n"
      ]
    },
    {
      "cell_type": "code",
      "execution_count": null,
      "metadata": {
        "collapsed": false
      },
      "outputs": [],
      "source": [
        "data = nap.load_file(path)\nFS = 1250  # We know from the methods of the paper\nprint(data)"
      ]
    },
    {
      "cell_type": "markdown",
      "metadata": {},
      "source": [
        "***\nSelecting slices\n-----------------------------------\nFor later visualization, we define an interval of 3 seconds of data during REM sleep.\n\n"
      ]
    },
    {
      "cell_type": "code",
      "execution_count": null,
      "metadata": {
        "collapsed": false
      },
      "outputs": [],
      "source": [
        "ep_ex_rem = nap.IntervalSet(\n    data[\"rem\"][\"start\"][0] + 97.0,\n    data[\"rem\"][\"start\"][0] + 100.0,\n)"
      ]
    },
    {
      "cell_type": "markdown",
      "metadata": {},
      "source": [
        "Here we restrict the lfp to the REM epochs.\n\n"
      ]
    },
    {
      "cell_type": "code",
      "execution_count": null,
      "metadata": {
        "collapsed": false
      },
      "outputs": [],
      "source": [
        "tsd_rem = data[\"eeg\"][:,0].restrict(data[\"rem\"])\n\n# We will also extract spike times from all units in our dataset\n# which occur during REM sleep\nspikes = data[\"units\"].restrict(data[\"rem\"])"
      ]
    },
    {
      "cell_type": "markdown",
      "metadata": {},
      "source": [
        "***\nPlotting the LFP Activity\n-----------------------------------\nWe should first plot our REM Local Field Potential data.\n\n"
      ]
    },
    {
      "cell_type": "code",
      "execution_count": null,
      "metadata": {
        "collapsed": false
      },
      "outputs": [],
      "source": [
        "fig, ax = plt.subplots(1, constrained_layout=True, figsize=(10, 3))\nax.plot(tsd_rem.restrict(ep_ex_rem))\nax.set_title(\"REM Local Field Potential\")\nax.set_ylabel(\"LFP (a.u.)\")\nax.set_xlabel(\"time (s)\")"
      ]
    },
    {
      "cell_type": "markdown",
      "metadata": {},
      "source": [
        "***\nGetting the Wavelet Decomposition\n-----------------------------------\nAs we would expect, it looks like we have a very strong theta oscillation within our data\n- this is a common feature of REM sleep. Let's perform a wavelet decomposition,\nas we did in the last tutorial, to see get a more informative breakdown of the\nfrequencies present in the data.\n\nWe must define the frequency set that we'd like to use for our decomposition.\n\n"
      ]
    },
    {
      "cell_type": "code",
      "execution_count": null,
      "metadata": {
        "collapsed": false
      },
      "outputs": [],
      "source": [
        "freqs = np.geomspace(5, 200, 25)"
      ]
    },
    {
      "cell_type": "markdown",
      "metadata": {},
      "source": [
        "We compute the wavelet transform on our LFP data (only during the example interval).\n\n"
      ]
    },
    {
      "cell_type": "code",
      "execution_count": null,
      "metadata": {
        "collapsed": false
      },
      "outputs": [],
      "source": [
        "cwt_rem = nap.compute_wavelet_transform(tsd_rem.restrict(ep_ex_rem), fs=FS, freqs=freqs)"
      ]
    },
    {
      "cell_type": "markdown",
      "metadata": {},
      "source": [
        "***\nNow let's plot the calculated wavelet scalogram.\n\n"
      ]
    },
    {
      "cell_type": "code",
      "execution_count": null,
      "metadata": {
        "collapsed": false
      },
      "outputs": [],
      "source": [
        "# Define wavelet decomposition plotting function\ndef plot_timefrequency(freqs, powers, ax=None):\n    im = ax.imshow(np.abs(powers), aspect=\"auto\")\n    ax.invert_yaxis()\n    ax.set_xlabel(\"Time (s)\")\n    ax.set_ylabel(\"Frequency (Hz)\")\n    ax.get_xaxis().set_visible(False)\n    ax.set(yticks=np.arange(len(freqs))[::2], yticklabels=np.rint(freqs[::2]))\n    ax.grid(False)\n    return im\n\nfig = plt.figure(constrained_layout=True, figsize=(10, 6))\nfig.suptitle(\"Wavelet Decomposition\")\ngs = plt.GridSpec(2, 1, figure=fig, height_ratios=[1.0, 0.3])\n\nax0 = plt.subplot(gs[0, 0])\nim = plot_timefrequency(freqs, np.transpose(cwt_rem[:, :].values), ax=ax0)\ncbar = fig.colorbar(im, ax=ax0, orientation=\"vertical\")\n\nax1 = plt.subplot(gs[1, 0])\nax1.plot(tsd_rem.restrict(ep_ex_rem))\nax1.set_ylabel(\"LFP (a.u.)\")\nax1.set_xlabel(\"Time (s)\")\nax1.margins(0)"
      ]
    },
    {
      "cell_type": "markdown",
      "metadata": {},
      "source": [
        "***\nFiltering Theta\n---------------\n\nAs expected, there is a strong 8Hz component during REM sleep. We can filter it using the function `nap.apply_bandpass_filter`.\n\n"
      ]
    },
    {
      "cell_type": "code",
      "execution_count": null,
      "metadata": {
        "collapsed": false
      },
      "outputs": [],
      "source": [
        "theta_band = nap.apply_bandpass_filter(tsd_rem, cutoff=(6.0, 10.0), fs=FS)"
      ]
    },
    {
      "cell_type": "markdown",
      "metadata": {},
      "source": [
        "We can plot the original signal and the filtered signal.\n\n"
      ]
    },
    {
      "cell_type": "code",
      "execution_count": null,
      "metadata": {
        "collapsed": false
      },
      "outputs": [],
      "source": [
        "plt.figure(constrained_layout=True, figsize=(12, 3))\nplt.plot(tsd_rem.restrict(ep_ex_rem), alpha=0.5)\nplt.plot(theta_band.restrict(ep_ex_rem))\nplt.xlabel(\"Time (s)\")\nplt.show()"
      ]
    },
    {
      "cell_type": "markdown",
      "metadata": {},
      "source": [
        "***\nComputing phase\n---------------\n\nFrom the filtered signal, it is easy to get the phase using the Hilbert transform. Here we use scipy Hilbert method.\n\n"
      ]
    },
    {
      "cell_type": "code",
      "execution_count": null,
      "metadata": {
        "collapsed": false
      },
      "outputs": [],
      "source": [
        "from scipy import signal\n\ntheta_phase = nap.Tsd(t=theta_band.t, d=np.angle(signal.hilbert(theta_band)))"
      ]
    },
    {
      "cell_type": "markdown",
      "metadata": {},
      "source": [
        "Let's plot the phase.\n\n"
      ]
    },
    {
      "cell_type": "code",
      "execution_count": null,
      "metadata": {
        "collapsed": false
      },
      "outputs": [],
      "source": [
        "plt.figure(constrained_layout=True, figsize=(12, 3))\nplt.subplot(211)\nplt.plot(tsd_rem.restrict(ep_ex_rem), alpha=0.5)\nplt.plot(theta_band.restrict(ep_ex_rem))\nplt.subplot(212)\nplt.plot(theta_phase.restrict(ep_ex_rem), color='r')\nplt.ylabel(\"Phase (rad)\")\nplt.xlabel(\"Time (s)\")\nplt.show()"
      ]
    },
    {
      "cell_type": "markdown",
      "metadata": {},
      "source": [
        "***\nFinding Phase of Spikes\n-----------------------\nNow that we have the phase of our theta wavelet, and our spike times, we can find the phase firing preferences\nof each of the units using the `compute_1d_tuning_curves` function.\n\nWe will start by throwing away cells which do not have a high enough firing rate during our interval.\n\n"
      ]
    },
    {
      "cell_type": "code",
      "execution_count": null,
      "metadata": {
        "collapsed": false
      },
      "outputs": [],
      "source": [
        "spikes = spikes[spikes.rate > 5.0]"
      ]
    },
    {
      "cell_type": "markdown",
      "metadata": {},
      "source": [
        "The feature is the theta phase during REM sleep.\n\n"
      ]
    },
    {
      "cell_type": "code",
      "execution_count": null,
      "metadata": {
        "collapsed": false
      },
      "outputs": [],
      "source": [
        "phase_modulation = nap.compute_1d_tuning_curves(\n    group=spikes, feature=theta_phase, nb_bins=61, minmax=(-np.pi, np.pi)\n)"
      ]
    },
    {
      "cell_type": "markdown",
      "metadata": {},
      "source": [
        "Let's plot the first 3 neurons.\n\n"
      ]
    },
    {
      "cell_type": "code",
      "execution_count": null,
      "metadata": {
        "collapsed": false
      },
      "outputs": [],
      "source": [
        "plt.figure(constrained_layout=True, figsize = (12, 3))\nfor i in range(3):\n    plt.subplot(1,3,i+1)\n    plt.plot(phase_modulation.iloc[:,i])\n    plt.xlabel(\"Phase (rad)\")\n    plt.ylabel(\"Firing rate (Hz)\")\nplt.show()"
      ]
    },
    {
      "cell_type": "markdown",
      "metadata": {},
      "source": [
        "There is clearly a strong modulation for the third neuron.\nFinally, we can use the function `value_from` to align each spikes to the corresponding phase position and overlay\nit with the LFP.\n\n"
      ]
    },
    {
      "cell_type": "code",
      "execution_count": null,
      "metadata": {
        "collapsed": false
      },
      "outputs": [],
      "source": [
        "spike_phase = spikes[spikes.index[3]].value_from(theta_phase)"
      ]
    },
    {
      "cell_type": "markdown",
      "metadata": {},
      "source": [
        "Let's plot it.\n\n"
      ]
    },
    {
      "cell_type": "code",
      "execution_count": null,
      "metadata": {
        "collapsed": false
      },
      "outputs": [],
      "source": [
        "plt.figure(constrained_layout=True, figsize=(12, 3))\nplt.subplot(211)\nplt.plot(tsd_rem.restrict(ep_ex_rem), alpha=0.5)\nplt.plot(theta_band.restrict(ep_ex_rem))\nplt.subplot(212)\nplt.plot(theta_phase.restrict(ep_ex_rem), alpha=0.5)\nplt.plot(spike_phase.restrict(ep_ex_rem), 'o')\nplt.ylabel(\"Phase (rad)\")\nplt.xlabel(\"Time (s)\")\nplt.show()"
      ]
    }
  ],
  "metadata": {
    "kernelspec": {
      "display_name": "Python 3",
      "language": "python",
      "name": "python3"
    },
    "language_info": {
      "codemirror_mode": {
        "name": "ipython",
        "version": 3
      },
      "file_extension": ".py",
      "mimetype": "text/x-python",
      "name": "python",
      "nbconvert_exporter": "python",
      "pygments_lexer": "ipython3",
      "version": "3.11.9"
    }
  },
  "nbformat": 4,
  "nbformat_minor": 0
}